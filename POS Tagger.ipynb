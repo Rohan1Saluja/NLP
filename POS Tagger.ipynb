{
 "cells": [
  {
   "cell_type": "code",
   "execution_count": 39,
   "id": "5f8f82b1",
   "metadata": {},
   "outputs": [
    {
     "name": "stdout",
     "output_type": "stream",
     "text": [
      "Collecting textblob\n",
      "  Downloading textblob-0.17.1-py2.py3-none-any.whl (636 kB)\n",
      "     -------------------------------------- 636.8/636.8 kB 3.3 MB/s eta 0:00:00\n",
      "Requirement already satisfied: nltk>=3.1 in c:\\users\\student\\downloads\\anaconda\\lib\\site-packages (from textblob) (3.7)\n",
      "Requirement already satisfied: tqdm in c:\\users\\student\\downloads\\anaconda\\lib\\site-packages (from nltk>=3.1->textblob) (4.64.1)\n",
      "Requirement already satisfied: regex>=2021.8.3 in c:\\users\\student\\downloads\\anaconda\\lib\\site-packages (from nltk>=3.1->textblob) (2022.7.9)\n",
      "Requirement already satisfied: click in c:\\users\\student\\downloads\\anaconda\\lib\\site-packages (from nltk>=3.1->textblob) (8.0.4)\n",
      "Requirement already satisfied: joblib in c:\\users\\student\\downloads\\anaconda\\lib\\site-packages (from nltk>=3.1->textblob) (1.1.0)\n",
      "Requirement already satisfied: colorama in c:\\users\\student\\downloads\\anaconda\\lib\\site-packages (from click->nltk>=3.1->textblob) (0.4.6)\n",
      "Installing collected packages: textblob\n",
      "Successfully installed textblob-0.17.1\n"
     ]
    }
   ],
   "source": [
    "import nltk\n",
    "from nltk import word_tokenize\n",
    "from nltk import pos_tag\n",
    "import spacy\n",
    "spac = spacy.load(\"en_core_web_sm\")\n",
    "from spacy import displacy\n",
    "!pip install textblob\n",
    "from textblob import TextBlob"
   ]
  },
  {
   "cell_type": "code",
   "execution_count": 40,
   "id": "cb338cc5",
   "metadata": {},
   "outputs": [],
   "source": [
    "def nltkpos(sentence):\n",
    "    tokens = word_tokenize(sentence.lower())\n",
    "    tag = pos_tag(tokens)\n",
    "    print(tag)\n",
    "    return\n",
    "\n",
    "def spacyy(sent):\n",
    "    doc = spac(sent)\n",
    "    for token in doc:\n",
    "        print(token.text,\" -> \", token.pos_,\" -> \", token.tag_)\n",
    "    displacy.render(doc, style=\"dep\", jupyter=True)\n",
    "    return\n",
    "def textblobb(sent):\n",
    "    blob = TextBlob(sent)\n",
    "    print(blob.tags)\n",
    "    return"
   ]
  },
  {
   "cell_type": "code",
   "execution_count": 41,
   "id": "7226ab37",
   "metadata": {},
   "outputs": [
    {
     "name": "stdout",
     "output_type": "stream",
     "text": [
      "1. Spacy\n",
      "2. NLTK\n",
      "3. Blob\n",
      "Chose and option3\n",
      "Enter the sentence: To know more about the spacy models, refer to this link.\n",
      "[('To', 'TO'), ('know', 'VB'), ('more', 'JJR'), ('about', 'IN'), ('the', 'DT'), ('spacy', 'NN'), ('models', 'NNS'), ('refer', 'VBP'), ('to', 'TO'), ('this', 'DT'), ('link', 'NN')]\n"
     ]
    }
   ],
   "source": [
    "print(\"1. Spacy\\n2. NLTK\\n3. Blob\")\n",
    "ch = int(input(\"Chose and option\"))\n",
    "sentence = input(\"Enter the sentence: \")\n",
    "\n",
    "if ch == 1:\n",
    "    spacyy(sentence)\n",
    "elif ch == 2:\n",
    "    nltkpos(sentence)\n",
    "elif ch == 3:\n",
    "    textblobb(sentence)"
   ]
  },
  {
   "cell_type": "code",
   "execution_count": null,
   "id": "8af84128",
   "metadata": {},
   "outputs": [],
   "source": []
  }
 ],
 "metadata": {
  "kernelspec": {
   "display_name": "Python 3 (ipykernel)",
   "language": "python",
   "name": "python3"
  },
  "language_info": {
   "codemirror_mode": {
    "name": "ipython",
    "version": 3
   },
   "file_extension": ".py",
   "mimetype": "text/x-python",
   "name": "python",
   "nbconvert_exporter": "python",
   "pygments_lexer": "ipython3",
   "version": "3.8.6"
  }
 },
 "nbformat": 4,
 "nbformat_minor": 5
}
