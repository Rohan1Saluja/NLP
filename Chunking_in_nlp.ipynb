{
 "cells": [
  {
   "cell_type": "code",
   "execution_count": 1,
   "metadata": {
    "colab": {
     "base_uri": "https://localhost:8080/"
    },
    "id": "x_khVyBQIn6z",
    "outputId": "f08fc033-1b50-4a3e-a2af-142c5673a1c0"
   },
   "outputs": [],
   "source": [
    "import nltk\n",
    "# nltk.download('punkt')"
   ]
  },
  {
   "cell_type": "code",
   "execution_count": null,
   "metadata": {
    "colab": {
     "base_uri": "https://localhost:8080/"
    },
    "id": "ExUJpOe83sDI",
    "outputId": "f830b16f-594d-413c-c86b-4127df336906"
   },
   "outputs": [],
   "source": [
    "import nltk\n",
    "nltk.download('averaged_perceptron_tagger')"
   ]
  },
  {
   "cell_type": "code",
   "execution_count": null,
   "metadata": {
    "colab": {
     "base_uri": "https://localhost:8080/"
    },
    "id": "SaX4giTm3c45",
    "outputId": "2ef7ae5c-32be-416f-feb0-ae16970b5391"
   },
   "outputs": [],
   "source": [
    "import nltk\n",
    "\n",
    "# define a sample sentence\n",
    "sentence = \"John is eating a delicious pizza with a fork\"\n",
    "\n",
    "# tokenize the sentence\n",
    "tokens = nltk.word_tokenize(sentence)\n",
    "\n",
    "# define the grammar rules for chunking\n",
    "grammar = \"NP: {<DT>?<JJ>*<NN>}\" # extract noun phrases\n",
    "\n",
    "# create a chunk parser using the grammar rules\n",
    "chunk_parser = nltk.RegexpParser(grammar)\n",
    "\n",
    "# apply the chunk parser on the tokenized sentence\n",
    "chunked_sentence = chunk_parser.parse(nltk.pos_tag(tokens))\n",
    "\n",
    "# print the chunked sentence\n",
    "print(chunked_sentence)\n",
    "\n",
    "# visualize the chunked sentence as a tree\n",
    "chunked_sentence.pretty_print()\n"
   ]
  },
  {
   "cell_type": "code",
   "execution_count": null,
   "metadata": {},
   "outputs": [],
   "source": []
  }
 ],
 "metadata": {
  "colab": {
   "provenance": []
  },
  "kernelspec": {
   "display_name": "Python 3 (ipykernel)",
   "language": "python",
   "name": "python3"
  },
  "language_info": {
   "codemirror_mode": {
    "name": "ipython",
    "version": 3
   },
   "file_extension": ".py",
   "mimetype": "text/x-python",
   "name": "python",
   "nbconvert_exporter": "python",
   "pygments_lexer": "ipython3",
   "version": "3.8.6"
  }
 },
 "nbformat": 4,
 "nbformat_minor": 1
}
