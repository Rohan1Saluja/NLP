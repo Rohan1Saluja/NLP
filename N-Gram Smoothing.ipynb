{
 "cells": [
  {
   "cell_type": "markdown",
   "source": [
    "## N-Gram Smoothing"
   ],
   "metadata": {
    "collapsed": false
   }
  },
  {
   "cell_type": "code",
   "execution_count": 1,
   "outputs": [],
   "source": [
    "import nltk\n",
    "from nltk.util import ngrams\n",
    "from collections import Counter"
   ],
   "metadata": {
    "collapsed": false
   }
  },
  {
   "cell_type": "code",
   "execution_count": 2,
   "outputs": [
    {
     "name": "stdout",
     "output_type": "stream",
     "text": [
      "N-gram probabilities:\n",
      "('Hi', '!') -> 0.14\n",
      "('!', 'I') -> 0.14\n",
      "('I', 'am') -> 0.21\n",
      "('am', 'Rituraj') -> 0.14\n",
      "('Rituraj', 'Raman') -> 0.14\n",
      "('Raman', 'and') -> 0.14\n",
      "('and', 'I') -> 0.14\n",
      "('am', 'performing') -> 0.14\n",
      "('performing', 'experiment') -> 0.14\n",
      "('experiment', '5') -> 0.14\n",
      "('5', 'of') -> 0.14\n",
      "('of', 'natural') -> 0.14\n",
      "('natural', 'language') -> 0.14\n",
      "('language', 'processing') -> 0.14\n"
     ]
    }
   ],
   "source": [
    "corpus = \"Hi! I am Rituraj Raman and I am performing experiment 5 of natural language processing\"\n",
    "tokens = nltk.word_tokenize(corpus)\n",
    "n = 2\n",
    "n_grams = list(ngrams(tokens, n))\n",
    "n_gram_freq = Counter(n_grams)\n",
    "token_freq = Counter(tokens)\n",
    "n_gram_prob = {}\n",
    "for n_gram in n_gram_freq.keys():\n",
    "    context = n_gram[:-1]\n",
    "    count = n_gram_freq[n_gram]\n",
    "    total_count = token_freq[context]\n",
    "    prob = (count + 1) / (total_count + len(token_freq))\n",
    "    n_gram_prob[n_gram] = prob\n",
    "print(\"N-gram probabilities:\")\n",
    "for n_gram, prob in n_gram_prob.items():\n",
    "    print(\"{} -> {:.2f}\".format(n_gram, prob))"
   ],
   "metadata": {
    "collapsed": false
   }
  },
  {
   "cell_type": "code",
   "execution_count": null,
   "outputs": [],
   "source": [],
   "metadata": {
    "collapsed": false
   }
  }
 ],
 "metadata": {
  "kernelspec": {
   "display_name": "Python 3",
   "language": "python",
   "name": "python3"
  },
  "language_info": {
   "codemirror_mode": {
    "name": "ipython",
    "version": 2
   },
   "file_extension": ".py",
   "mimetype": "text/x-python",
   "name": "python",
   "nbconvert_exporter": "python",
   "pygments_lexer": "ipython2",
   "version": "2.7.6"
  }
 },
 "nbformat": 4,
 "nbformat_minor": 0
}
